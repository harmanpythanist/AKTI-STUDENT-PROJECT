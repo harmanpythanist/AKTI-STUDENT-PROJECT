{
 "cells": [
  {
   "cell_type": "code",
   "execution_count": 1,
   "id": "cffa886a-3d08-45bb-9d67-94116bff894f",
   "metadata": {},
   "outputs": [
    {
     "name": "stdout",
     "output_type": "stream",
     "text": [
      "Accuracy: 0.9798\n",
      "Confusion Matrix:\n",
      "[[938  17]\n",
      " [ 22 953]]\n",
      "Classification Report:\n"
     ]
    },
    {
     "name": "stdin",
     "output_type": "stream",
     "text": [
      "Enter an email to classify:  abdullahsheikh1502@icloud.com\n"
     ]
    },
    {
     "name": "stdout",
     "output_type": "stream",
     "text": [
      "Prediction: Spam\n"
     ]
    }
   ],
   "source": [
    "import pandas as pd\n",
    "from sklearn.model_selection import train_test_split\n",
    "from sklearn.feature_extraction.text import TfidfVectorizer\n",
    "from sklearn.naive_bayes import MultinomialNB\n",
    "from sklearn.metrics import accuracy_score, confusion_matrix, classification_report\n",
    "from sklearn.utils import resample\n",
    "\n",
    "\n",
    "df = pd.read_csv('C://Program Files/spam.csv')\n",
    "df = df.dropna(subset=['Message', 'Category'])\n",
    "df['Category'] = df['Category'].map({'ham': 0, 'spam': 1})\n",
    "\n",
    "df_spam = df[df['Category'] == 1]\n",
    "df_ham = df[df['Category'] == 0]\n",
    "\n",
    "\n",
    "if len(df_spam) < len(df_ham):\n",
    "    df_spam = resample(df_spam, replace=True, n_samples=len(df_ham), random_state=42)\n",
    "df = pd.concat([df_spam, df_ham])\n",
    "\n",
    "df = df.sample(frac=1, random_state=42)\n",
    "\n",
    "X_train, X_test, y_train, y_test = train_test_split(df['Message'], df['Category'], test_size=0.2, random_state=42)\n",
    "\n",
    "vectorizer = TfidfVectorizer(stop_words='english', max_features=10000, ngram_range=(1,2))\n",
    "X_train_tfidf = vectorizer.fit_transform(X_train)\n",
    "X_test_tfidf = vectorizer.transform(X_test)\n",
    "\n",
    "model = MultinomialNB()\n",
    "model.fit(X_train_tfidf, y_train)\n",
    "y_pred = model.predict(X_test_tfidf)\n",
    "\n",
    "accuracy = accuracy_score(y_test, y_pred)\n",
    "conf_matrix = confusion_matrix(y_test, y_pred)\n",
    "class_report = classification_report(y_test, y_pred)\n",
    "\n",
    "print(f\"Accuracy: {accuracy:.4f}\")\n",
    "print(\"Confusion Matrix:\")\n",
    "print(conf_matrix)\n",
    "print(\"Classification Report:\")\n",
    "\n",
    "def predict_email(email_text):\n",
    "    email_tfidf = vectorizer.transform([email_text])\n",
    "    prob = model.predict_proba(email_tfidf)[0][1]  \n",
    "    prediction = \"Spam\" if prob > 0.3 else \"Not Spam\" \n",
    "    return prediction\n",
    "\n",
    "email = input(\"Enter an email to classify: \")\n",
    "print(\"Prediction:\", predict_email(email))"
   ]
  },
  {
   "cell_type": "code",
   "execution_count": null,
   "id": "cb511803-9748-465f-abf7-38d40349983a",
   "metadata": {},
   "outputs": [],
   "source": []
  }
 ],
 "metadata": {
  "kernelspec": {
   "display_name": "Python [conda env:base] *",
   "language": "python",
   "name": "conda-base-py"
  },
  "language_info": {
   "codemirror_mode": {
    "name": "ipython",
    "version": 3
   },
   "file_extension": ".py",
   "mimetype": "text/x-python",
   "name": "python",
   "nbconvert_exporter": "python",
   "pygments_lexer": "ipython3",
   "version": "3.12.7"
  }
 },
 "nbformat": 4,
 "nbformat_minor": 5
}
